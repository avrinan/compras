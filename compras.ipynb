{
 "cells": [
  {
   "cell_type": "code",
   "execution_count": 39,
   "metadata": {
    "collapsed": false
   },
   "outputs": [],
   "source": [
    "import os\n",
    "import sys\n",
    "import jinja2\n",
    "import pandas as pd\n",
    "import xml.etree.ElementTree as ET\n",
    "from six.moves.urllib.request import urlretrieve"
   ]
  },
  {
   "cell_type": "code",
   "execution_count": 40,
   "metadata": {
    "collapsed": true
   },
   "outputs": [],
   "source": [
    "last_percent_reported = None\n",
    "url = 'https://www.comprasestatales.gub.uy/comprasenlinea/jboss/generarReporte?tipo_publicacion=lv&anio_inicial=2017&mes_inicial=07&dia_inicial=01&hora_inicial=0&anio_final=2017&mes_final=07&dia_final=10&hora_final=24'"
   ]
  },
  {
   "cell_type": "code",
   "execution_count": 62,
   "metadata": {
    "collapsed": true
   },
   "outputs": [],
   "source": [
    "def download_progress_hook(count, blockSize, totalSize):\n",
    "    \"\"\" \n",
    "        A hook to report the progress of a download. This is mostly intended \n",
    "        for users with slow internet connections. Reports every 5% change in download progress.\n",
    "    \"\"\"\n",
    "    global last_percent_reported\n",
    "    percent = (count + 1) * blockSize\n",
    "\n",
    "    if last_percent_reported != percent:\n",
    "        if percent % 5 == 0:\n",
    "            sys.stdout.write(\"%s%%\" % percent)\n",
    "            sys.stdout.flush()\n",
    "        else:\n",
    "            sys.stdout.write(\".\")\n",
    "            sys.stdout.flush()\n",
    "      \n",
    "    last_percent_reported = percent\n",
    "        \n",
    "def maybe_download(url, filename, directory, force=False):\n",
    "    \"\"\"Download a file if not present, and make sure it's the right size.\"\"\"\n",
    "    dest_filename = os.path.join(directory, filename)\n",
    "    os.makedirs(name=directory, exist_ok=True) # Attempt to create the dir where the file should be downloaded to. If exists then do nothing\n",
    "    if force or not os.path.exists(dest_filename):\n",
    "        print('Iniciando Descarga:', url) \n",
    "        try:\n",
    "            filename, _ = urlretrieve(url, dest_filename, reporthook=download_progress_hook)\n",
    "            print('Descarga Completa!')\n",
    "        except:\n",
    "            print('%s no se pudo descargar!' % filename)\n",
    "    else:\n",
    "        print('%s ya existe en la carpeta - Salteando la descarga.' % dest_filename) \n",
    "    \n",
    "    return dest_filename\n",
    "\n",
    "def get_contacts(filename):\n",
    "    \"\"\"\n",
    "    Return two lists names, emails containing names and email addresses\n",
    "    read from a file specified by filename.\n",
    "    \"\"\"\n",
    "    \n",
    "    names = []\n",
    "    emails = []\n",
    "    with open(filename, mode='r', encoding='utf-8') as contacts_file:\n",
    "        for a_contact in [c for c in contacts_file if not c.startswith(\"#\")]:\n",
    "            names.append(a_contact.split()[0])\n",
    "            emails.append(a_contact.split()[1])\n",
    "    return names, emails\n",
    "\n",
    "def xml2df(xml_file):\n",
    "    #xml_data = open(xml_file).read()\n",
    "\n",
    "    root = ET.parse(xml_file).getroot().getchildren()[1]#ET.XML(xml_data) # element tree\n",
    "    all_records = []\n",
    "    for i, child in enumerate(root):\n",
    "        record = {}\n",
    "        print(i)\n",
    "        print(child)\n",
    "        for subchild in child:\n",
    "            record[subchild.tag] = subchild.text\n",
    "            all_records.append(record)\n",
    "            print(subchild.tag)\n",
    "    return pd.DataFrame(all_records)"
   ]
  },
  {
   "cell_type": "code",
   "execution_count": 42,
   "metadata": {
    "collapsed": false
   },
   "outputs": [
    {
     "name": "stdout",
     "output_type": "stream",
     "text": [
      "Iniciando Descarga: https://www.comprasestatales.gub.uy/comprasenlinea/jboss/generarReporte?tipo_publicacion=lv&anio_inicial=2017&mes_inicial=07&dia_inicial=01&hora_inicial=0&anio_final=2017&mes_final=07&dia_final=10&hora_final=24\n",
      "..Descarga Completa!\n"
     ]
    },
    {
     "data": {
      "text/plain": [
       "'data/compras.xml'"
      ]
     },
     "execution_count": 42,
     "metadata": {},
     "output_type": "execute_result"
    }
   ],
   "source": [
    "maybe_download(url, 'compras.xml', 'data', force=True)"
   ]
  },
  {
   "cell_type": "code",
   "execution_count": 64,
   "metadata": {
    "collapsed": true
   },
   "outputs": [],
   "source": [
    "e = xml.etree.ElementTree.parse('data/compras.xml').getroot().getchildren()[1].getchildren()"
   ]
  },
  {
   "cell_type": "code",
   "execution_count": 67,
   "metadata": {
    "collapsed": false
   },
   "outputs": [],
   "source": [
    "e = e[0]"
   ]
  },
  {
   "cell_type": "code",
   "execution_count": 74,
   "metadata": {
    "collapsed": false
   },
   "outputs": [
    {
     "data": {
      "text/plain": [
       "{'anio_compra': '2017',\n",
       " 'email_contacto': 'uteabast@ute.com.uy ',\n",
       " 'estado_compra': '4',\n",
       " 'fax_contacto': '(0598) 22083428     ',\n",
       " 'fecha_hora_apertura': '12/09/2017 10:00',\n",
       " 'fecha_hora_tope_entrega': '12/09/2017 10:00',\n",
       " 'fecha_publicacion': '11/05/2017 12:30',\n",
       " 'fecha_sol_aclar': '07/09/2017',\n",
       " 'fecha_sol_prorr': '07/09/2017',\n",
       " 'fecha_ult_mod_llamado': '10/07/2017 18:30',\n",
       " 'fondos_rotatorios': 'N',\n",
       " 'id_compra': 'i247250',\n",
       " 'id_inciso': '61',\n",
       " 'id_tipocompra': 'LA',\n",
       " 'id_ue': '1',\n",
       " 'lugar_apertura': 'SALA DE APERTURAS :UTE Palacio de la Luz,Paraguay 2431 Planta Baja,Montevideo - Uruguay.',\n",
       " 'lugar_compra_pliego': '',\n",
       " 'lugar_entrega': 'Depto. Atención Personalizada a Proveedores,UTE Palacio de la Luz,Paraguay 2431 Planta Baja.Montevideo - Uruguay.  ',\n",
       " 'nombre_contacto': 'Depto. Atención Personalizada a Proveedores                                                        ',\n",
       " 'nombre_pliego': 'pliego_i247250.pdf',\n",
       " 'nro_ampliacion': '0',\n",
       " 'num_compra': 'Y50355',\n",
       " 'objeto': 'Dispositivo analizador de cableado de redes LAN.            ',\n",
       " 'precio_pliego': '0.00',\n",
       " 'subtipo_compra': 'COM'}"
      ]
     },
     "execution_count": 74,
     "metadata": {},
     "output_type": "execute_result"
    }
   ],
   "source": [
    "e.attrib"
   ]
  },
  {
   "cell_type": "code",
   "execution_count": null,
   "metadata": {
    "collapsed": false
   },
   "outputs": [],
   "source": [
    "reporte_dato = e.getchildren()[1]"
   ]
  },
  {
   "cell_type": "code",
   "execution_count": null,
   "metadata": {
    "collapsed": false
   },
   "outputs": [],
   "source": [
    "compras = reporte_dato.getchildren()"
   ]
  },
  {
   "cell_type": "code",
   "execution_count": null,
   "metadata": {
    "collapsed": false
   },
   "outputs": [],
   "source": [
    "compra = compras[0]"
   ]
  },
  {
   "cell_type": "code",
   "execution_count": 49,
   "metadata": {
    "collapsed": false
   },
   "outputs": [],
   "source": [
    "import xmltodict"
   ]
  },
  {
   "cell_type": "code",
   "execution_count": 50,
   "metadata": {
    "collapsed": false
   },
   "outputs": [],
   "source": [
    "import codecs\n",
    "with codecs.open('data/compras.xml',\"r\",encoding='utf-8', errors='ignore') as fd:\n",
    "    doc = xmltodict.parse(fd.read())"
   ]
  },
  {
   "cell_type": "code",
   "execution_count": 53,
   "metadata": {
    "collapsed": false
   },
   "outputs": [
    {
     "data": {
      "text/plain": [
       "OrderedDict([('reporte',\n",
       "              OrderedDict([('reporte_cabezal',\n",
       "                            OrderedDict([('@fecha_generado',\n",
       "                                          '03/08/2017 07:38'),\n",
       "                                         ('@cant_compras', '1')])),\n",
       "                           ('reporte_dato',\n",
       "                            OrderedDict([('compra',\n",
       "                                          OrderedDict([('@id_compra',\n",
       "                                                        'i247250'),\n",
       "                                                       ('@id_inciso', '61'),\n",
       "                                                       ('@id_ue', '1'),\n",
       "                                                       ('@num_compra',\n",
       "                                                        'Y50355'),\n",
       "                                                       ('@anio_compra',\n",
       "                                                        '2017'),\n",
       "                                                       ('@nro_ampliacion',\n",
       "                                                        '0'),\n",
       "                                                       ('@estado_compra', '4'),\n",
       "                                                       ('@nombre_pliego',\n",
       "                                                        'pliego_i247250.pdf'),\n",
       "                                                       ('@fecha_publicacion',\n",
       "                                                        '11/05/2017 12:30'),\n",
       "                                                       ('@fecha_ult_mod_llamado',\n",
       "                                                        '10/07/2017 18:30'),\n",
       "                                                       ('@id_tipocompra',\n",
       "                                                        'LA'),\n",
       "                                                       ('@subtipo_compra',\n",
       "                                                        'COM'),\n",
       "                                                       ('@objeto',\n",
       "                                                        'Dispositivo analizador de cableado de redes LAN.            '),\n",
       "                                                       ('@fecha_hora_apertura',\n",
       "                                                        '12/09/2017 10:00'),\n",
       "                                                       ('@lugar_apertura',\n",
       "                                                        'SALA DE APERTURAS :UTE Palacio de la Luz,Paraguay 2431 Planta Baja,Montevideo - Uruguay.'),\n",
       "                                                       ('@fecha_sol_prorr',\n",
       "                                                        '07/09/2017'),\n",
       "                                                       ('@fecha_sol_aclar',\n",
       "                                                        '07/09/2017'),\n",
       "                                                       ('@fecha_hora_tope_entrega',\n",
       "                                                        '12/09/2017 10:00'),\n",
       "                                                       ('@lugar_entrega',\n",
       "                                                        'Depto. Atencin Personalizada a Proveedores,UTE Palacio de la Luz,Paraguay 2431 Planta Baja.Montevideo - Uruguay.  '),\n",
       "                                                       ('@precio_pliego',\n",
       "                                                        '0.00'),\n",
       "                                                       ('@lugar_compra_pliego',\n",
       "                                                        ''),\n",
       "                                                       ('@nombre_contacto',\n",
       "                                                        'Depto. Atencin Personalizada a Proveedores                                                        '),\n",
       "                                                       ('@fax_contacto',\n",
       "                                                        '(0598) 22083428     '),\n",
       "                                                       ('@email_contacto',\n",
       "                                                        'uteabast@ute.com.uy '),\n",
       "                                                       ('@fondos_rotatorios',\n",
       "                                                        'N'),\n",
       "                                                       ('aclaraciones_lla',\n",
       "                                                        OrderedDict([('aclaracion',\n",
       "                                                                      [OrderedDict([('@texto',\n",
       "                                                                                     'Circular No. 1'),\n",
       "                                                                                    ('@fecha',\n",
       "                                                                                     '18/05/2017 17:38'),\n",
       "                                                                                    ('@nom_archivo',\n",
       "                                                                                     'aclar_llamado_i247250_1.pdf')]),\n",
       "                                                                       OrderedDict([('@texto',\n",
       "                                                                                     'Circular No. 2'),\n",
       "                                                                                    ('@fecha',\n",
       "                                                                                     '24/05/2017 17:41'),\n",
       "                                                                                    ('@nom_archivo',\n",
       "                                                                                     'aclar_llamado_i247250_2.pdf')]),\n",
       "                                                                       OrderedDict([('@texto',\n",
       "                                                                                     'Circular No. 3'),\n",
       "                                                                                    ('@fecha',\n",
       "                                                                                     '09/06/2017 13:30'),\n",
       "                                                                                    ('@nom_archivo',\n",
       "                                                                                     'aclar_llamado_i247250_3.pdf')]),\n",
       "                                                                       OrderedDict([('@texto',\n",
       "                                                                                     'Circular No. 4'),\n",
       "                                                                                    ('@fecha',\n",
       "                                                                                     '10/07/2017 18:30'),\n",
       "                                                                                    ('@nom_archivo',\n",
       "                                                                                     'aclar_llamado_i247250_4.pdf')])])])),\n",
       "                                                       ('hist_mod_llamado',\n",
       "                                                        OrderedDict([('mod_llamado',\n",
       "                                                                      [OrderedDict([('@fecha',\n",
       "                                                                                     '24/05/2017 13:28'),\n",
       "                                                                                    ('@campo',\n",
       "                                                                                     'FECHA_HORA_APERTURA'),\n",
       "                                                                                    ('@valor_anterior',\n",
       "                                                                                     '29/05/2017 10:00'),\n",
       "                                                                                    ('@valor_nuevo',\n",
       "                                                                                     '12/06/2017 10:00')]),\n",
       "                                                                       OrderedDict([('@fecha',\n",
       "                                                                                     '24/05/2017 13:28'),\n",
       "                                                                                    ('@campo',\n",
       "                                                                                     'FECHA_HORA_TOPE_ENTREGA'),\n",
       "                                                                                    ('@valor_anterior',\n",
       "                                                                                     '29/05/2017 10:00'),\n",
       "                                                                                    ('@valor_nuevo',\n",
       "                                                                                     '12/06/2017 10:00')]),\n",
       "                                                                       OrderedDict([('@fecha',\n",
       "                                                                                     '24/05/2017 13:28'),\n",
       "                                                                                    ('@campo',\n",
       "                                                                                     'FECHA_SOL_ACLAR'),\n",
       "                                                                                    ('@valor_anterior',\n",
       "                                                                                     '24/05/2017'),\n",
       "                                                                                    ('@valor_nuevo',\n",
       "                                                                                     '07/06/2017')]),\n",
       "                                                                       OrderedDict([('@fecha',\n",
       "                                                                                     '24/05/2017 13:28'),\n",
       "                                                                                    ('@campo',\n",
       "                                                                                     'FECHA_SOL_PRORR'),\n",
       "                                                                                    ('@valor_anterior',\n",
       "                                                                                     '24/05/2017'),\n",
       "                                                                                    ('@valor_nuevo',\n",
       "                                                                                     '07/06/2017')]),\n",
       "                                                                       OrderedDict([('@fecha',\n",
       "                                                                                     '09/06/2017 12:30'),\n",
       "                                                                                    ('@campo',\n",
       "                                                                                     'FECHA_HORA_APERTURA'),\n",
       "                                                                                    ('@valor_anterior',\n",
       "                                                                                     '12/06/2017 10:00'),\n",
       "                                                                                    ('@valor_nuevo',\n",
       "                                                                                     '12/07/2017 10:00')]),\n",
       "                                                                       OrderedDict([('@fecha',\n",
       "                                                                                     '09/06/2017 12:30'),\n",
       "                                                                                    ('@campo',\n",
       "                                                                                     'FECHA_HORA_TOPE_ENTREGA'),\n",
       "                                                                                    ('@valor_anterior',\n",
       "                                                                                     '12/06/2017 10:00'),\n",
       "                                                                                    ('@valor_nuevo',\n",
       "                                                                                     '12/07/2017 10:00')]),\n",
       "                                                                       OrderedDict([('@fecha',\n",
       "                                                                                     '09/06/2017 12:30'),\n",
       "                                                                                    ('@campo',\n",
       "                                                                                     'FECHA_SOL_ACLAR'),\n",
       "                                                                                    ('@valor_anterior',\n",
       "                                                                                     '07/06/2017'),\n",
       "                                                                                    ('@valor_nuevo',\n",
       "                                                                                     '07/07/2017')]),\n",
       "                                                                       OrderedDict([('@fecha',\n",
       "                                                                                     '09/06/2017 12:30'),\n",
       "                                                                                    ('@campo',\n",
       "                                                                                     'FECHA_SOL_PRORR'),\n",
       "                                                                                    ('@valor_anterior',\n",
       "                                                                                     '07/06/2017'),\n",
       "                                                                                    ('@valor_nuevo',\n",
       "                                                                                     '07/07/2017')]),\n",
       "                                                                       OrderedDict([('@fecha',\n",
       "                                                                                     '10/07/2017 17:30'),\n",
       "                                                                                    ('@campo',\n",
       "                                                                                     'FECHA_HORA_APERTURA'),\n",
       "                                                                                    ('@valor_anterior',\n",
       "                                                                                     '12/07/2017 10:00'),\n",
       "                                                                                    ('@valor_nuevo',\n",
       "                                                                                     '12/09/2017 10:00')]),\n",
       "                                                                       OrderedDict([('@fecha',\n",
       "                                                                                     '10/07/2017 17:30'),\n",
       "                                                                                    ('@campo',\n",
       "                                                                                     'FECHA_HORA_TOPE_ENTREGA'),\n",
       "                                                                                    ('@valor_anterior',\n",
       "                                                                                     '12/07/2017 10:00'),\n",
       "                                                                                    ('@valor_nuevo',\n",
       "                                                                                     '12/09/2017 10:00')]),\n",
       "                                                                       OrderedDict([('@fecha',\n",
       "                                                                                     '10/07/2017 17:30'),\n",
       "                                                                                    ('@campo',\n",
       "                                                                                     'FECHA_SOL_ACLAR'),\n",
       "                                                                                    ('@valor_anterior',\n",
       "                                                                                     '07/07/2017'),\n",
       "                                                                                    ('@valor_nuevo',\n",
       "                                                                                     '07/09/2017')]),\n",
       "                                                                       OrderedDict([('@fecha',\n",
       "                                                                                     '10/07/2017 17:30'),\n",
       "                                                                                    ('@campo',\n",
       "                                                                                     'FECHA_SOL_PRORR'),\n",
       "                                                                                    ('@valor_anterior',\n",
       "                                                                                     '07/07/2017'),\n",
       "                                                                                    ('@valor_nuevo',\n",
       "                                                                                     '07/09/2017')])])]))]))]))]))])"
      ]
     },
     "execution_count": 53,
     "metadata": {},
     "output_type": "execute_result"
    }
   ],
   "source": [
    "doc"
   ]
  },
  {
   "cell_type": "code",
   "execution_count": null,
   "metadata": {
    "collapsed": false
   },
   "outputs": [],
   "source": [
    "dc = doc['reporte']['reporte_dato']['compra']"
   ]
  },
  {
   "cell_type": "code",
   "execution_count": null,
   "metadata": {
    "collapsed": false
   },
   "outputs": [],
   "source": [
    "comps = [(c.get('id_compra'), c.get('id_inciso'), c.get('nombre_pliego'),\n",
    "          c.get('fecha_publicacion'), c.get('fecha_ult_mod_llamado'), c.get('fecha_hora_apertura')) \n",
    "         for c in dc]"
   ]
  },
  {
   "cell_type": "code",
   "execution_count": 10,
   "metadata": {
    "collapsed": false
   },
   "outputs": [],
   "source": [
    "import pandas as pd\n",
    "#compras = pd.DataFrame(comps, columns=['id_compra', 'id_inciso', 'nombre_pliego', 'fecha_publicacion', 'fecha_ult_mod_llamado', 'fecha_hora_apertura'])\n",
    "compras = pd.DataFrame()"
   ]
  },
  {
   "cell_type": "code",
   "execution_count": null,
   "metadata": {
    "collapsed": false
   },
   "outputs": [],
   "source": [
    "compras = compras.from_dict(data=dc)"
   ]
  },
  {
   "cell_type": "code",
   "execution_count": null,
   "metadata": {
    "collapsed": true
   },
   "outputs": [],
   "source": [
    "import jinja2"
   ]
  },
  {
   "cell_type": "code",
   "execution_count": null,
   "metadata": {
    "collapsed": true
   },
   "outputs": [],
   "source": [
    "loader = jinja2.FileSystemLoader('./templates')\n",
    "jenv = jinja2.Environment(loader=loader)"
   ]
  },
  {
   "cell_type": "code",
   "execution_count": null,
   "metadata": {
    "collapsed": false
   },
   "outputs": [],
   "source": [
    "email_template = jenv.get_template('email.html')"
   ]
  },
  {
   "cell_type": "code",
   "execution_count": null,
   "metadata": {
    "collapsed": false
   },
   "outputs": [],
   "source": [
    "email = email_template.render(saludo='Estimado', usuario='Matias',compras=compras)"
   ]
  },
  {
   "cell_type": "code",
   "execution_count": null,
   "metadata": {
    "collapsed": true
   },
   "outputs": [],
   "source": [
    "with open('notif.html', 'w') as n:\n",
    "    n.write(email)"
   ]
  },
  {
   "cell_type": "code",
   "execution_count": null,
   "metadata": {
    "collapsed": false
   },
   "outputs": [],
   "source": [
    "import smtplib\n",
    "\n",
    "from email.mime.multipart import MIMEMultipart\n",
    "from email.mime.text import MIMEText\n",
    "\n",
    "def send_mail(me, you, subject, html, text):\n",
    "    # me == my email address\n",
    "    # you == recipient's email address\n",
    "\n",
    "    # Create message container - the correct MIME type is multipart/alternative.\n",
    "    msg = MIMEMultipart('alternative')\n",
    "    msg['Subject'] = subject\n",
    "    msg['From'] = me\n",
    "    msg['To'] = you\n",
    "\n",
    "    # Record the MIME types of both parts - text/plain and text/html.\n",
    "    part1 = MIMEText(text, 'plain')\n",
    "    part2 = MIMEText(html, 'html')\n",
    "\n",
    "    # Attach parts into message container.\n",
    "    # According to RFC 2046, the last part of a multipart message, in this case\n",
    "    # the HTML message, is best and preferred.\n",
    "    msg.attach(part1)\n",
    "    msg.attach(part2)\n",
    "\n",
    "    # Send the message via local SMTP server.\n",
    "    s = smtplib.SMTP(host='smtp-mail.outlook.com', port=587)\n",
    "    \n",
    "    s.starttls()\n",
    "    s.login('daniel.bonini@outlook.com', 'C0ntra$3nha001')\n",
    "    # sendmail function takes 3 arguments: sender's address, recipient's address\n",
    "    # and message to send - here it is sent as one string.\n",
    "    s.sendmail(me, you, msg.as_string())\n",
    "    del msg\n",
    "    s.quit()"
   ]
  },
  {
   "cell_type": "code",
   "execution_count": null,
   "metadata": {
    "collapsed": false
   },
   "outputs": [],
   "source": [
    "send_mail('daniel.bonini@outlook.com', 'm.martinezlaurini@gmail.com', 'Mail de Prueba', email, 'Este es un mail de prueba')"
   ]
  },
  {
   "cell_type": "code",
   "execution_count": 1,
   "metadata": {
    "collapsed": true
   },
   "outputs": [],
   "source": [
    "from string import Template"
   ]
  },
  {
   "cell_type": "code",
   "execution_count": 3,
   "metadata": {
    "collapsed": true
   },
   "outputs": [],
   "source": [
    "url = Template('https://www.comprasestatales.gub.uy/comprasenlinea/jboss/generarReporte?tipo_publicacion=$TP&anio_inicial=$AI&mes_inicial=$MI&dia_inicial=$DI&hora_inicial=$HI&anio_final=$AF&mes_final=$MF&dia_final=$DF&hora_final=$HF')"
   ]
  },
  {
   "cell_type": "code",
   "execution_count": 5,
   "metadata": {
    "collapsed": false
   },
   "outputs": [
    {
     "data": {
      "text/plain": [
       "'https://www.comprasestatales.gub.uy/comprasenlinea/jboss/generarReporte?tipo_publicacion=lv&anio_inicial=2017&mes_inicial=7&dia_inicial=11&hora_inicial=0&anio_final=2017&mes_final=7&dia_final=21&hora_final=24'"
      ]
     },
     "execution_count": 5,
     "metadata": {},
     "output_type": "execute_result"
    }
   ],
   "source": [
    "url.substitute(TP='lv',AI=2017,MI=7,DI=11,HI=0,AF=2017,MF=7,DF=21,HF=24)"
   ]
  },
  {
   "cell_type": "code",
   "execution_count": 6,
   "metadata": {
    "collapsed": true
   },
   "outputs": [],
   "source": [
    "lista = [\"#hola\", \"hola#\", \"hola\"]\n"
   ]
  },
  {
   "cell_type": "code",
   "execution_count": 9,
   "metadata": {
    "collapsed": false
   },
   "outputs": [
    {
     "data": {
      "text/plain": [
       "['hola#', 'hola']"
      ]
     },
     "execution_count": 9,
     "metadata": {},
     "output_type": "execute_result"
    }
   ],
   "source": [
    "[s for s in lista if not s.startswith(\"#\")]"
   ]
  },
  {
   "cell_type": "code",
   "execution_count": 1,
   "metadata": {
    "collapsed": true
   },
   "outputs": [],
   "source": []
  },
  {
   "cell_type": "code",
   "execution_count": 6,
   "metadata": {
    "collapsed": false
   },
   "outputs": [
    {
     "name": "stdout",
     "output_type": "stream",
     "text": [
      "['daniel']\n"
     ]
    }
   ],
   "source": [
    "nombres, _ = get_contacts('contactos.txt')\n",
    "print( nombres)"
   ]
  },
  {
   "cell_type": "code",
   "execution_count": null,
   "metadata": {
    "collapsed": true
   },
   "outputs": [],
   "source": []
  }
 ],
 "metadata": {
  "kernelspec": {
   "display_name": "Python 3",
   "language": "python",
   "name": "python3"
  },
  "language_info": {
   "codemirror_mode": {
    "name": "ipython",
    "version": 3
   },
   "file_extension": ".py",
   "mimetype": "text/x-python",
   "name": "python",
   "nbconvert_exporter": "python",
   "pygments_lexer": "ipython3",
   "version": "3.6.0"
  }
 },
 "nbformat": 4,
 "nbformat_minor": 2
}
